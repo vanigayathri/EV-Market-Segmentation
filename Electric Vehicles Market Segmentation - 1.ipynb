{
 "cells": [
  {
   "cell_type": "code",
   "execution_count": 1,
   "id": "c4406c08",
   "metadata": {},
   "outputs": [],
   "source": [
    "import numpy as np\n",
    "import pandas as pd\n",
    "import matplotlib.pyplot as plt\n",
    "import seaborn as sns"
   ]
  },
  {
   "cell_type": "markdown",
   "id": "9944fef0",
   "metadata": {},
   "source": [
    "###### EXPLORING DATA"
   ]
  },
  {
   "cell_type": "code",
   "execution_count": 2,
   "id": "b4d6f7d1",
   "metadata": {},
   "outputs": [],
   "source": [
    "data=pd.read_csv('Electric_Vehicle_Population_Data.csv')"
   ]
  },
  {
   "cell_type": "code",
   "execution_count": 3,
   "id": "879eeac7",
   "metadata": {},
   "outputs": [
    {
     "name": "stdout",
     "output_type": "stream",
     "text": [
      "['VIN (1-10)', 'County', 'City', 'State', 'Postal Code', 'Model Year', 'Make', 'Model', 'Electric Vehicle Type', 'Clean Alternative Fuel Vehicle (CAFV) Eligibility', 'Electric Range', 'Base MSRP', 'Legislative District', 'DOL Vehicle ID', 'Vehicle Location', 'Electric Utility', '2020 Census Tract']\n"
     ]
    }
   ],
   "source": [
    "column_names = data.columns.tolist()\n",
    "print(column_names)"
   ]
  },
  {
   "cell_type": "code",
   "execution_count": 4,
   "id": "4adc1240",
   "metadata": {},
   "outputs": [
    {
     "name": "stdout",
     "output_type": "stream",
     "text": [
      "186879 17\n"
     ]
    }
   ],
   "source": [
    "num_rows, num_cols = data.shape\n",
    "print(num_rows, num_cols)"
   ]
  },
  {
   "cell_type": "code",
   "execution_count": 5,
   "id": "ad9dd3a7",
   "metadata": {},
   "outputs": [
    {
     "name": "stdout",
     "output_type": "stream",
     "text": [
      "   VIN (1-10)  County       City State  Postal Code  Model Year   Make  \\\n",
      "0  WBY8P6C58K    King    Seattle    WA      98115.0        2019    BMW   \n",
      "1  5YJSA1DN4D  Kitsap  Bremerton    WA      98312.0        2013  TESLA   \n",
      "2  5YJSA1E26J    King       Kent    WA      98042.0        2018  TESLA   \n",
      "\n",
      "     Model           Electric Vehicle Type  \\\n",
      "0       I3  Battery Electric Vehicle (BEV)   \n",
      "1  MODEL S  Battery Electric Vehicle (BEV)   \n",
      "2  MODEL S  Battery Electric Vehicle (BEV)   \n",
      "\n",
      "  Clean Alternative Fuel Vehicle (CAFV) Eligibility  Electric Range  \\\n",
      "0           Clean Alternative Fuel Vehicle Eligible             153   \n",
      "1           Clean Alternative Fuel Vehicle Eligible             208   \n",
      "2           Clean Alternative Fuel Vehicle Eligible             249   \n",
      "\n",
      "   Base MSRP  Legislative District  DOL Vehicle ID  \\\n",
      "0          0                  43.0       259254397   \n",
      "1      69900                  35.0       127420940   \n",
      "2          0                  47.0       170287183   \n",
      "\n",
      "                  Vehicle Location  \\\n",
      "0  POINT (-122.3008235 47.6862671)   \n",
      "1  POINT (-122.6961203 47.5759584)   \n",
      "2  POINT (-122.1145138 47.3581107)   \n",
      "\n",
      "                                Electric Utility  2020 Census Tract  \n",
      "0   CITY OF SEATTLE - (WA)|CITY OF TACOMA - (WA)       5.303300e+10  \n",
      "1                         PUGET SOUND ENERGY INC       5.303508e+10  \n",
      "2  PUGET SOUND ENERGY INC||CITY OF TACOMA - (WA)       5.303303e+10  \n"
     ]
    }
   ],
   "source": [
    "first_three_rows = data.head(3)\n",
    "print(first_three_rows)"
   ]
  },
  {
   "cell_type": "code",
   "execution_count": 6,
   "id": "a162a25f",
   "metadata": {},
   "outputs": [
    {
     "name": "stdout",
     "output_type": "stream",
     "text": [
      "<class 'pandas.core.frame.DataFrame'>\n",
      "RangeIndex: 186879 entries, 0 to 186878\n",
      "Data columns (total 17 columns):\n",
      " #   Column                                             Non-Null Count   Dtype  \n",
      "---  ------                                             --------------   -----  \n",
      " 0   VIN (1-10)                                         186879 non-null  object \n",
      " 1   County                                             186876 non-null  object \n",
      " 2   City                                               186876 non-null  object \n",
      " 3   State                                              186879 non-null  object \n",
      " 4   Postal Code                                        186876 non-null  float64\n",
      " 5   Model Year                                         186879 non-null  int64  \n",
      " 6   Make                                               186879 non-null  object \n",
      " 7   Model                                              186879 non-null  object \n",
      " 8   Electric Vehicle Type                              186879 non-null  object \n",
      " 9   Clean Alternative Fuel Vehicle (CAFV) Eligibility  186879 non-null  object \n",
      " 10  Electric Range                                     186879 non-null  int64  \n",
      " 11  Base MSRP                                          186879 non-null  int64  \n",
      " 12  Legislative District                               186476 non-null  float64\n",
      " 13  DOL Vehicle ID                                     186879 non-null  int64  \n",
      " 14  Vehicle Location                                   186871 non-null  object \n",
      " 15  Electric Utility                                   186876 non-null  object \n",
      " 16  2020 Census Tract                                  186876 non-null  float64\n",
      "dtypes: float64(3), int64(4), object(10)\n",
      "memory usage: 24.2+ MB\n"
     ]
    }
   ],
   "source": [
    "data.info()"
   ]
  },
  {
   "cell_type": "markdown",
   "id": "354f9bca",
   "metadata": {},
   "source": [
    "###### SEGMENT EXTRACTION"
   ]
  },
  {
   "cell_type": "code",
   "execution_count": 7,
   "id": "b1246fcb",
   "metadata": {},
   "outputs": [
    {
     "data": {
      "text/html": [
       "<div>\n",
       "<style scoped>\n",
       "    .dataframe tbody tr th:only-of-type {\n",
       "        vertical-align: middle;\n",
       "    }\n",
       "\n",
       "    .dataframe tbody tr th {\n",
       "        vertical-align: top;\n",
       "    }\n",
       "\n",
       "    .dataframe thead th {\n",
       "        text-align: right;\n",
       "    }\n",
       "</style>\n",
       "<table border=\"1\" class=\"dataframe\">\n",
       "  <thead>\n",
       "    <tr style=\"text-align: right;\">\n",
       "      <th></th>\n",
       "      <th>VIN (1-10)</th>\n",
       "      <th>County</th>\n",
       "      <th>City</th>\n",
       "      <th>State</th>\n",
       "      <th>Postal Code</th>\n",
       "      <th>Model Year</th>\n",
       "      <th>Make</th>\n",
       "      <th>Model</th>\n",
       "      <th>Electric Vehicle Type</th>\n",
       "    </tr>\n",
       "  </thead>\n",
       "  <tbody>\n",
       "    <tr>\n",
       "      <th>0</th>\n",
       "      <td>WBY8P6C58K</td>\n",
       "      <td>King</td>\n",
       "      <td>Seattle</td>\n",
       "      <td>WA</td>\n",
       "      <td>98115.0</td>\n",
       "      <td>2019</td>\n",
       "      <td>BMW</td>\n",
       "      <td>I3</td>\n",
       "      <td>Battery Electric Vehicle (BEV)</td>\n",
       "    </tr>\n",
       "    <tr>\n",
       "      <th>1</th>\n",
       "      <td>5YJSA1DN4D</td>\n",
       "      <td>Kitsap</td>\n",
       "      <td>Bremerton</td>\n",
       "      <td>WA</td>\n",
       "      <td>98312.0</td>\n",
       "      <td>2013</td>\n",
       "      <td>TESLA</td>\n",
       "      <td>MODEL S</td>\n",
       "      <td>Battery Electric Vehicle (BEV)</td>\n",
       "    </tr>\n",
       "    <tr>\n",
       "      <th>2</th>\n",
       "      <td>5YJSA1E26J</td>\n",
       "      <td>King</td>\n",
       "      <td>Kent</td>\n",
       "      <td>WA</td>\n",
       "      <td>98042.0</td>\n",
       "      <td>2018</td>\n",
       "      <td>TESLA</td>\n",
       "      <td>MODEL S</td>\n",
       "      <td>Battery Electric Vehicle (BEV)</td>\n",
       "    </tr>\n",
       "    <tr>\n",
       "      <th>3</th>\n",
       "      <td>WBY2Z2C54E</td>\n",
       "      <td>King</td>\n",
       "      <td>Bellevue</td>\n",
       "      <td>WA</td>\n",
       "      <td>98004.0</td>\n",
       "      <td>2014</td>\n",
       "      <td>BMW</td>\n",
       "      <td>I8</td>\n",
       "      <td>Plug-in Hybrid Electric Vehicle (PHEV)</td>\n",
       "    </tr>\n",
       "    <tr>\n",
       "      <th>4</th>\n",
       "      <td>5YJXCDE23J</td>\n",
       "      <td>King</td>\n",
       "      <td>Bellevue</td>\n",
       "      <td>WA</td>\n",
       "      <td>98004.0</td>\n",
       "      <td>2018</td>\n",
       "      <td>TESLA</td>\n",
       "      <td>MODEL X</td>\n",
       "      <td>Battery Electric Vehicle (BEV)</td>\n",
       "    </tr>\n",
       "    <tr>\n",
       "      <th>...</th>\n",
       "      <td>...</td>\n",
       "      <td>...</td>\n",
       "      <td>...</td>\n",
       "      <td>...</td>\n",
       "      <td>...</td>\n",
       "      <td>...</td>\n",
       "      <td>...</td>\n",
       "      <td>...</td>\n",
       "      <td>...</td>\n",
       "    </tr>\n",
       "    <tr>\n",
       "      <th>186874</th>\n",
       "      <td>JTMEB3FVXM</td>\n",
       "      <td>Snohomish</td>\n",
       "      <td>Arlington</td>\n",
       "      <td>WA</td>\n",
       "      <td>98223.0</td>\n",
       "      <td>2021</td>\n",
       "      <td>TOYOTA</td>\n",
       "      <td>RAV4 PRIME</td>\n",
       "      <td>Plug-in Hybrid Electric Vehicle (PHEV)</td>\n",
       "    </tr>\n",
       "    <tr>\n",
       "      <th>186875</th>\n",
       "      <td>7SAYGAEEXP</td>\n",
       "      <td>Snohomish</td>\n",
       "      <td>Stanwood</td>\n",
       "      <td>WA</td>\n",
       "      <td>98292.0</td>\n",
       "      <td>2023</td>\n",
       "      <td>TESLA</td>\n",
       "      <td>MODEL Y</td>\n",
       "      <td>Battery Electric Vehicle (BEV)</td>\n",
       "    </tr>\n",
       "    <tr>\n",
       "      <th>186876</th>\n",
       "      <td>3FA6P0SUXK</td>\n",
       "      <td>King</td>\n",
       "      <td>Auburn</td>\n",
       "      <td>WA</td>\n",
       "      <td>98001.0</td>\n",
       "      <td>2019</td>\n",
       "      <td>FORD</td>\n",
       "      <td>FUSION</td>\n",
       "      <td>Plug-in Hybrid Electric Vehicle (PHEV)</td>\n",
       "    </tr>\n",
       "    <tr>\n",
       "      <th>186877</th>\n",
       "      <td>7SAYGDEE1P</td>\n",
       "      <td>Pierce</td>\n",
       "      <td>Tacoma</td>\n",
       "      <td>WA</td>\n",
       "      <td>98422.0</td>\n",
       "      <td>2023</td>\n",
       "      <td>TESLA</td>\n",
       "      <td>MODEL Y</td>\n",
       "      <td>Battery Electric Vehicle (BEV)</td>\n",
       "    </tr>\n",
       "    <tr>\n",
       "      <th>186878</th>\n",
       "      <td>7SAYGDEE1R</td>\n",
       "      <td>Douglas</td>\n",
       "      <td>East Wenatchee</td>\n",
       "      <td>WA</td>\n",
       "      <td>98802.0</td>\n",
       "      <td>2024</td>\n",
       "      <td>TESLA</td>\n",
       "      <td>MODEL Y</td>\n",
       "      <td>Battery Electric Vehicle (BEV)</td>\n",
       "    </tr>\n",
       "  </tbody>\n",
       "</table>\n",
       "<p>186879 rows × 9 columns</p>\n",
       "</div>"
      ],
      "text/plain": [
       "        VIN (1-10)     County            City State  Postal Code  Model Year  \\\n",
       "0       WBY8P6C58K       King         Seattle    WA      98115.0        2019   \n",
       "1       5YJSA1DN4D     Kitsap       Bremerton    WA      98312.0        2013   \n",
       "2       5YJSA1E26J       King            Kent    WA      98042.0        2018   \n",
       "3       WBY2Z2C54E       King        Bellevue    WA      98004.0        2014   \n",
       "4       5YJXCDE23J       King        Bellevue    WA      98004.0        2018   \n",
       "...            ...        ...             ...   ...          ...         ...   \n",
       "186874  JTMEB3FVXM  Snohomish       Arlington    WA      98223.0        2021   \n",
       "186875  7SAYGAEEXP  Snohomish        Stanwood    WA      98292.0        2023   \n",
       "186876  3FA6P0SUXK       King          Auburn    WA      98001.0        2019   \n",
       "186877  7SAYGDEE1P     Pierce          Tacoma    WA      98422.0        2023   \n",
       "186878  7SAYGDEE1R    Douglas  East Wenatchee    WA      98802.0        2024   \n",
       "\n",
       "          Make       Model                   Electric Vehicle Type  \n",
       "0          BMW          I3          Battery Electric Vehicle (BEV)  \n",
       "1        TESLA     MODEL S          Battery Electric Vehicle (BEV)  \n",
       "2        TESLA     MODEL S          Battery Electric Vehicle (BEV)  \n",
       "3          BMW          I8  Plug-in Hybrid Electric Vehicle (PHEV)  \n",
       "4        TESLA     MODEL X          Battery Electric Vehicle (BEV)  \n",
       "...        ...         ...                                     ...  \n",
       "186874  TOYOTA  RAV4 PRIME  Plug-in Hybrid Electric Vehicle (PHEV)  \n",
       "186875   TESLA     MODEL Y          Battery Electric Vehicle (BEV)  \n",
       "186876    FORD      FUSION  Plug-in Hybrid Electric Vehicle (PHEV)  \n",
       "186877   TESLA     MODEL Y          Battery Electric Vehicle (BEV)  \n",
       "186878   TESLA     MODEL Y          Battery Electric Vehicle (BEV)  \n",
       "\n",
       "[186879 rows x 9 columns]"
      ]
     },
     "execution_count": 7,
     "metadata": {},
     "output_type": "execute_result"
    }
   ],
   "source": [
    "ilocfunc = data.iloc[:,0:9]\n",
    "ilocfunc"
   ]
  },
  {
   "cell_type": "code",
   "execution_count": 16,
   "id": "2971f6c9",
   "metadata": {},
   "outputs": [],
   "source": [
    "from sklearn.preprocessing import StandardScaler"
   ]
  },
  {
   "cell_type": "code",
   "execution_count": 17,
   "id": "33e336fc",
   "metadata": {},
   "outputs": [],
   "source": [
    "df = pd.DataFrame(data)"
   ]
  },
  {
   "cell_type": "code",
   "execution_count": 18,
   "id": "42c6e82c",
   "metadata": {},
   "outputs": [],
   "source": [
    "df_encoded = pd.get_dummies(df, columns=['City', 'County', 'Make', 'Electric Vehicle Type', 'Vehicle Location'], drop_first=True)"
   ]
  },
  {
   "cell_type": "code",
   "execution_count": 19,
   "id": "0b116381",
   "metadata": {},
   "outputs": [],
   "source": [
    "scaler = StandardScaler()\n",
    "numerical_features = ['Electric Range', 'Base MSRP', 'Model Year']\n",
    "df_encoded[numerical_features] = scaler.fit_transform(df_encoded[numerical_features])"
   ]
  },
  {
   "cell_type": "code",
   "execution_count": 8,
   "id": "0601af4f",
   "metadata": {},
   "outputs": [
    {
     "name": "stdout",
     "output_type": "stream",
     "text": [
      "        VIN (1-10)     County            City State  Postal Code  Model Year  \\\n",
      "0       WBY8P6C58K       King         Seattle    WA      98115.0        2019   \n",
      "1       5YJSA1DN4D     Kitsap       Bremerton    WA      98312.0        2013   \n",
      "2       5YJSA1E26J       King            Kent    WA      98042.0        2018   \n",
      "3       WBY2Z2C54E       King        Bellevue    WA      98004.0        2014   \n",
      "4       5YJXCDE23J       King        Bellevue    WA      98004.0        2018   \n",
      "...            ...        ...             ...   ...          ...         ...   \n",
      "186874  JTMEB3FVXM  Snohomish       Arlington    WA      98223.0        2021   \n",
      "186875  7SAYGAEEXP  Snohomish        Stanwood    WA      98292.0        2023   \n",
      "186876  3FA6P0SUXK       King          Auburn    WA      98001.0        2019   \n",
      "186877  7SAYGDEE1P     Pierce          Tacoma    WA      98422.0        2023   \n",
      "186878  7SAYGDEE1R    Douglas  East Wenatchee    WA      98802.0        2024   \n",
      "\n",
      "          Make       Model                   Electric Vehicle Type  \\\n",
      "0          BMW          I3          Battery Electric Vehicle (BEV)   \n",
      "1        TESLA     MODEL S          Battery Electric Vehicle (BEV)   \n",
      "2        TESLA     MODEL S          Battery Electric Vehicle (BEV)   \n",
      "3          BMW          I8  Plug-in Hybrid Electric Vehicle (PHEV)   \n",
      "4        TESLA     MODEL X          Battery Electric Vehicle (BEV)   \n",
      "...        ...         ...                                     ...   \n",
      "186874  TOYOTA  RAV4 PRIME  Plug-in Hybrid Electric Vehicle (PHEV)   \n",
      "186875   TESLA     MODEL Y          Battery Electric Vehicle (BEV)   \n",
      "186876    FORD      FUSION  Plug-in Hybrid Electric Vehicle (PHEV)   \n",
      "186877   TESLA     MODEL Y          Battery Electric Vehicle (BEV)   \n",
      "186878   TESLA     MODEL Y          Battery Electric Vehicle (BEV)   \n",
      "\n",
      "        Clean Alternative Fuel Vehicle (CAFV) Eligibility  Electric Range  \\\n",
      "0                 Clean Alternative Fuel Vehicle Eligible             153   \n",
      "1                 Clean Alternative Fuel Vehicle Eligible             208   \n",
      "2                 Clean Alternative Fuel Vehicle Eligible             249   \n",
      "3                   Not eligible due to low battery range              14   \n",
      "4                 Clean Alternative Fuel Vehicle Eligible             238   \n",
      "...                                                   ...             ...   \n",
      "186874            Clean Alternative Fuel Vehicle Eligible              42   \n",
      "186875  Eligibility unknown as battery range has not b...               0   \n",
      "186876              Not eligible due to low battery range              26   \n",
      "186877  Eligibility unknown as battery range has not b...               0   \n",
      "186878  Eligibility unknown as battery range has not b...               0   \n",
      "\n",
      "        Base MSRP  Legislative District  DOL Vehicle ID  \\\n",
      "0               0                  43.0       259254397   \n",
      "1           69900                  35.0       127420940   \n",
      "2               0                  47.0       170287183   \n",
      "3               0                  41.0       205545868   \n",
      "4               0                  41.0       237977386   \n",
      "...           ...                   ...             ...   \n",
      "186874          0                  10.0       167257387   \n",
      "186875          0                  10.0       255471611   \n",
      "186876          0                  30.0       326904777   \n",
      "186877          0                  27.0       252396427   \n",
      "186878          0                  12.0       261058612   \n",
      "\n",
      "                       Vehicle Location  \\\n",
      "0       POINT (-122.3008235 47.6862671)   \n",
      "1       POINT (-122.6961203 47.5759584)   \n",
      "2       POINT (-122.1145138 47.3581107)   \n",
      "3         POINT (-122.202397 47.619252)   \n",
      "4         POINT (-122.202397 47.619252)   \n",
      "...                                 ...   \n",
      "186874     POINT (-122.11597 48.194109)   \n",
      "186875   POINT (-122.326873 48.2144825)   \n",
      "186876  POINT (-122.2651204 47.3164638)   \n",
      "186877    POINT (-122.389973 47.291035)   \n",
      "186878  POINT (-120.2609057 47.4167133)   \n",
      "\n",
      "                                         Electric Utility  2020 Census Tract  \\\n",
      "0            CITY OF SEATTLE - (WA)|CITY OF TACOMA - (WA)       5.303300e+10   \n",
      "1                                  PUGET SOUND ENERGY INC       5.303508e+10   \n",
      "2           PUGET SOUND ENERGY INC||CITY OF TACOMA - (WA)       5.303303e+10   \n",
      "3           PUGET SOUND ENERGY INC||CITY OF TACOMA - (WA)       5.303302e+10   \n",
      "4           PUGET SOUND ENERGY INC||CITY OF TACOMA - (WA)       5.303302e+10   \n",
      "...                                                   ...                ...   \n",
      "186874  BONNEVILLE POWER ADMINISTRATION||PUD 1 OF SNOH...       5.306105e+10   \n",
      "186875  BONNEVILLE POWER ADMINISTRATION||PUD 1 OF SNOH...       5.306105e+10   \n",
      "186876      PUGET SOUND ENERGY INC||CITY OF TACOMA - (WA)       5.303303e+10   \n",
      "186877  BONNEVILLE POWER ADMINISTRATION||CITY OF TACOM...       5.305394e+10   \n",
      "186878                         PUD NO 1 OF DOUGLAS COUNTY       5.301795e+10   \n",
      "\n",
      "       Segment  \n",
      "0        Other  \n",
      "1        Other  \n",
      "2        Other  \n",
      "3        Other  \n",
      "4        Other  \n",
      "...        ...  \n",
      "186874   Other  \n",
      "186875   Other  \n",
      "186876   Other  \n",
      "186877   Other  \n",
      "186878   Other  \n",
      "\n",
      "[186879 rows x 18 columns]\n"
     ]
    }
   ],
   "source": [
    "df = pd.DataFrame(data)\n",
    "def segment_market(row):\n",
    "    if row['City'] in ['Seattle', 'San Francisco', 'New York'] and row['Make'] == 'Tesla' and row['Electric Range'] > 300:\n",
    "        return 'Urban Tech Enthusiasts'\n",
    "    if row['County'] in ['King', 'Snohomish'] and row['Make'] in ['Nissan', 'Chevrolet', 'Ford', 'BMW'] and row['Electric Vehicle Type'] == 'BEV':\n",
    "        return 'Eco-Friendly Suburban Families'\n",
    "    if row['Vehicle Location'] == 'Garage' and row['Model Year'] < 2020 and row['Base MSRP'] < 40000:\n",
    "        return 'Rural Budget Buyers'\n",
    "    if row['Vehicle Location'] == 'Office' and row['City'] in ['Seattle', 'Bellevue', 'Everett'] and row['Base MSRP'] < 40000:\n",
    "        return 'Urban Budget Buyers'\n",
    "    if row['Make'] in ['Tesla', 'BMW'] and row['Base MSRP'] > 70000:\n",
    "        return 'Premium Electric Enthusiasts'\n",
    "    return 'Other'\n",
    "df['Segment'] = df.apply(segment_market, axis=1)\n",
    "print(df)"
   ]
  },
  {
   "cell_type": "markdown",
   "id": "752dffd1",
   "metadata": {},
   "source": [
    "###### PROFILING AND DESCRIBING POTENTIAL SEGMENTS"
   ]
  },
  {
   "cell_type": "code",
   "execution_count": 34,
   "id": "8af35b2b",
   "metadata": {},
   "outputs": [
    {
     "name": "stdout",
     "output_type": "stream",
     "text": [
      "VIN (1-10)                                             int32\n",
      "County                                                 int32\n",
      "City                                                   int32\n",
      "State                                                  int32\n",
      "Postal Code                                          float64\n",
      "Model Year                                             int64\n",
      "Make                                                   int32\n",
      "Model                                                  int32\n",
      "Electric Vehicle Type                                  int32\n",
      "Clean Alternative Fuel Vehicle (CAFV) Eligibility      int32\n",
      "Electric Range                                         int64\n",
      "Base MSRP                                              int64\n",
      "Legislative District                                 float64\n",
      "DOL Vehicle ID                                         int64\n",
      "Vehicle Location                                       int32\n",
      "Electric Utility                                       int32\n",
      "2020 Census Tract                                    float64\n",
      "dtype: object\n"
     ]
    },
    {
     "name": "stderr",
     "output_type": "stream",
     "text": [
      "C:\\anaconda\\Lib\\site-packages\\sklearn\\cluster\\_kmeans.py:1412: FutureWarning: The default value of `n_init` will change from 10 to 'auto' in 1.4. Set the value of `n_init` explicitly to suppress the warning\n",
      "  super()._check_params_vs_input(X, default_n_init=10)\n"
     ]
    },
    {
     "name": "stdout",
     "output_type": "stream",
     "text": [
      "   VIN (1-10)  County  City  State  Postal Code  Model Year  Make  Model  \\\n",
      "0        9281      83   581     42      98115.0        2019     4     66   \n",
      "1        3574      85    59     42      98312.0        2013    34     82   \n",
      "2        3687      83   299     42      98042.0        2018    34     82   \n",
      "3        8989      83    44     42      98004.0        2014     4     70   \n",
      "4        4268      83    44     42      98004.0        2018    34     83   \n",
      "\n",
      "   Electric Vehicle Type  Clean Alternative Fuel Vehicle (CAFV) Eligibility  \\\n",
      "0                      0                                                  0   \n",
      "1                      0                                                  0   \n",
      "2                      0                                                  0   \n",
      "3                      1                                                  2   \n",
      "4                      0                                                  0   \n",
      "\n",
      "   Electric Range  Base MSRP  Legislative District  DOL Vehicle ID  \\\n",
      "0             153          0                  43.0       259254397   \n",
      "1             208      69900                  35.0       127420940   \n",
      "2             249          0                  47.0       170287183   \n",
      "3              14          0                  41.0       205545868   \n",
      "4             238          0                  41.0       237977386   \n",
      "\n",
      "   Vehicle Location  Electric Utility  2020 Census Tract  Segment  \n",
      "0               433                57       5.303300e+10        0  \n",
      "1               581                73       5.303508e+10        0  \n",
      "2               358                74       5.303303e+10        0  \n",
      "3               388                74       5.303302e+10        0  \n",
      "4               388                74       5.303302e+10        0  \n"
     ]
    }
   ],
   "source": [
    "import pandas as pd\n",
    "from sklearn.cluster import KMeans\n",
    "from sklearn.preprocessing import LabelEncoder\n",
    "df_encoded = df.copy()\n",
    "non_numeric_columns = df.select_dtypes(include=['object']).columns\n",
    "label_encoders = {}\n",
    "for col in non_numeric_columns:\n",
    "    le = LabelEncoder()\n",
    "    df_encoded[col] = le.fit_transform(df_encoded[col])\n",
    "    label_encoders[col] = le\n",
    "df_encoded.fillna(df_encoded.mean(), inplace=True) \n",
    "print(df_encoded.dtypes)\n",
    "optimal_clusters = 4\n",
    "\n",
    "kmeans = KMeans(n_clusters=optimal_clusters, random_state=42)\n",
    "\n",
    "df['Segment'] = kmeans.fit_predict(df_encoded)\n",
    "print(df.head())"
   ]
  },
  {
   "cell_type": "markdown",
   "id": "7e818106",
   "metadata": {},
   "source": [
    "###### SELECTION OF TARGET SEGMENT"
   ]
  },
  {
   "cell_type": "code",
   "execution_count": 38,
   "id": "045aa896",
   "metadata": {},
   "outputs": [],
   "source": [
    "target_segment = 0\n",
    "target_segment_df = df[df['Segment'] == target_segment]"
   ]
  },
  {
   "cell_type": "code",
   "execution_count": 39,
   "id": "387acef1",
   "metadata": {},
   "outputs": [
    {
     "name": "stdout",
     "output_type": "stream",
     "text": [
      "          VIN (1-10)         County           City          State  \\\n",
      "count  186570.000000  186570.000000  186570.000000  186570.000000   \n",
      "mean     4239.994935     102.255132     404.761714      41.998510   \n",
      "std      2499.428364      43.092511     219.841765       0.162549   \n",
      "min         0.000000       1.000000       0.000000       0.000000   \n",
      "25%      2672.000000      83.000000     203.000000      42.000000   \n",
      "50%      4233.500000      83.000000     481.000000      42.000000   \n",
      "75%      5004.000000     129.000000     581.000000      42.000000   \n",
      "max     11241.000000     197.000000     736.000000      44.000000   \n",
      "\n",
      "         Postal Code     Model Year           Make          Model  \\\n",
      "count  186567.000000  186570.000000  186570.000000  186570.000000   \n",
      "mean    98235.410823    2020.660658      25.492737      79.930241   \n",
      "std      1364.237177       2.991498      11.573625      28.215673   \n",
      "min     20105.000000    1997.000000       0.000000       0.000000   \n",
      "25%     98052.000000    2019.000000      15.000000      79.000000   \n",
      "50%     98122.000000    2022.000000      34.000000      82.000000   \n",
      "75%     98371.000000    2023.000000      34.000000      84.000000   \n",
      "max     99403.000000    2024.000000      39.000000     142.000000   \n",
      "\n",
      "       Electric Vehicle Type  \\\n",
      "count          186570.000000   \n",
      "mean                0.216991   \n",
      "std                 0.412198   \n",
      "min                 0.000000   \n",
      "25%                 0.000000   \n",
      "50%                 0.000000   \n",
      "75%                 0.000000   \n",
      "max                 1.000000   \n",
      "\n",
      "       Clean Alternative Fuel Vehicle (CAFV) Eligibility  Electric Range  \\\n",
      "count                                      186570.000000   186570.000000   \n",
      "mean                                            0.745817       56.697347   \n",
      "std                                             0.637761       90.780962   \n",
      "min                                             0.000000        0.000000   \n",
      "25%                                             0.000000        0.000000   \n",
      "50%                                             1.000000        0.000000   \n",
      "75%                                             1.000000       73.000000   \n",
      "max                                             2.000000      337.000000   \n",
      "\n",
      "           Base MSRP  Legislative District  DOL Vehicle ID  Vehicle Location  \\\n",
      "count  186570.000000         186476.000000    1.865700e+05     186570.000000   \n",
      "mean     1011.361527             29.069012    2.225801e+08        424.487297   \n",
      "std      8112.112139             14.900971    7.463578e+07        107.614796   \n",
      "min         0.000000              1.000000    4.385000e+03          6.000000   \n",
      "25%         0.000000             18.000000    1.851502e+08        367.000000   \n",
      "50%         0.000000             33.000000    2.302236e+08        419.000000   \n",
      "75%         0.000000             42.000000    2.578028e+08        481.000000   \n",
      "max    845000.000000             49.000000    4.792548e+08        878.000000   \n",
      "\n",
      "       Electric Utility  2020 Census Tract   Segment  \n",
      "count     186570.000000       1.865670e+05  186570.0  \n",
      "mean          61.242697       5.303832e+10       0.0  \n",
      "std           19.010362       8.548063e+07       0.0  \n",
      "min            0.000000       4.501300e+10       0.0  \n",
      "25%           57.000000       5.303301e+10       0.0  \n",
      "50%           73.000000       5.303303e+10       0.0  \n",
      "75%           74.000000       5.305307e+10       0.0  \n",
      "max           76.000000       5.603300e+10       0.0  \n"
     ]
    }
   ],
   "source": [
    "target_segment_profile = target_segment_df.describe()\n",
    "print(target_segment_profile)"
   ]
  },
  {
   "cell_type": "markdown",
   "id": "21fd3f70",
   "metadata": {},
   "source": [
    "###### CALCULATING POTENTIAL PROFIT"
   ]
  },
  {
   "cell_type": "code",
   "execution_count": 40,
   "id": "9796f332",
   "metadata": {},
   "outputs": [
    {
     "name": "stdout",
     "output_type": "stream",
     "text": [
      "Potential Profit: $6529950000.0\n"
     ]
    }
   ],
   "source": [
    "potential_customer_base = len(target_segment_df)\n",
    "average_target_price = (30000 + 40000) / 2\n",
    "potential_profit = potential_customer_base * average_target_price\n",
    "print(f'Potential Profit: ${potential_profit}')"
   ]
  },
  {
   "cell_type": "markdown",
   "id": "7810b070",
   "metadata": {},
   "source": [
    "###### IDENTIFYING THE MOST OPTIMAL MARKET SEGMENTS"
   ]
  },
  {
   "cell_type": "code",
   "execution_count": 41,
   "id": "e6729187",
   "metadata": {},
   "outputs": [
    {
     "name": "stdout",
     "output_type": "stream",
     "text": [
      "Segment\n",
      "0    186570\n",
      "3       166\n",
      "1        77\n",
      "2        66\n",
      "Name: count, dtype: int64\n"
     ]
    }
   ],
   "source": [
    "segment_counts = df['Segment'].value_counts()\n",
    "print(segment_counts)"
   ]
  },
  {
   "cell_type": "code",
   "execution_count": 42,
   "id": "80f5df70",
   "metadata": {},
   "outputs": [
    {
     "name": "stdout",
     "output_type": "stream",
     "text": [
      "Most Optimal Segments: [0, 3]\n"
     ]
    }
   ],
   "source": [
    "optimal_segments = segment_counts[segment_counts > 100].index.tolist()  # Adjust the threshold as needed\n",
    "print(f'Most Optimal Segments: {optimal_segments}')"
   ]
  },
  {
   "cell_type": "markdown",
   "id": "6b2990b5",
   "metadata": {},
   "source": [
    "###### VISUALISATION"
   ]
  },
  {
   "cell_type": "code",
   "execution_count": 9,
   "id": "daa75c8c",
   "metadata": {},
   "outputs": [
    {
     "name": "stdout",
     "output_type": "stream",
     "text": [
      "Requirement already satisfied: matplotlib in c:\\anaconda\\lib\\site-packages (3.7.2)\n",
      "Requirement already satisfied: seaborn in c:\\anaconda\\lib\\site-packages (0.12.2)\n",
      "Requirement already satisfied: contourpy>=1.0.1 in c:\\anaconda\\lib\\site-packages (from matplotlib) (1.0.5)\n",
      "Requirement already satisfied: cycler>=0.10 in c:\\anaconda\\lib\\site-packages (from matplotlib) (0.11.0)\n",
      "Requirement already satisfied: fonttools>=4.22.0 in c:\\anaconda\\lib\\site-packages (from matplotlib) (4.25.0)\n",
      "Requirement already satisfied: kiwisolver>=1.0.1 in c:\\anaconda\\lib\\site-packages (from matplotlib) (1.4.4)\n",
      "Requirement already satisfied: numpy>=1.20 in c:\\anaconda\\lib\\site-packages (from matplotlib) (1.24.3)\n",
      "Requirement already satisfied: packaging>=20.0 in c:\\anaconda\\lib\\site-packages (from matplotlib) (23.1)\n",
      "Requirement already satisfied: pillow>=6.2.0 in c:\\anaconda\\lib\\site-packages (from matplotlib) (10.0.1)\n",
      "Requirement already satisfied: pyparsing<3.1,>=2.3.1 in c:\\anaconda\\lib\\site-packages (from matplotlib) (3.0.9)\n",
      "Requirement already satisfied: python-dateutil>=2.7 in c:\\anaconda\\lib\\site-packages (from matplotlib) (2.8.2)\n",
      "Requirement already satisfied: pandas>=0.25 in c:\\anaconda\\lib\\site-packages (from seaborn) (2.0.3)\n",
      "Requirement already satisfied: pytz>=2020.1 in c:\\anaconda\\lib\\site-packages (from pandas>=0.25->seaborn) (2023.3.post1)\n",
      "Requirement already satisfied: tzdata>=2022.1 in c:\\anaconda\\lib\\site-packages (from pandas>=0.25->seaborn) (2023.3)\n",
      "Requirement already satisfied: six>=1.5 in c:\\anaconda\\lib\\site-packages (from python-dateutil>=2.7->matplotlib) (1.16.0)\n",
      "Note: you may need to restart the kernel to use updated packages.\n"
     ]
    }
   ],
   "source": [
    "pip install matplotlib seaborn"
   ]
  },
  {
   "cell_type": "code",
   "execution_count": 10,
   "id": "322cff19",
   "metadata": {},
   "outputs": [
    {
     "data": {
      "image/png": "[encoded data removed]",
      "text/plain": [
       "<Figure size 1000x600 with 1 Axes>"
      ]
     },
     "metadata": {},
     "output_type": "display_data"
    }
   ],
   "source": [
    "import matplotlib.pyplot as plt\n",
    "import seaborn as sns\n",
    "plt.figure(figsize=(10, 6))\n",
    "sns.countplot(data=df, x='Segment', order=df['Segment'].value_counts().index)\n",
    "plt.title('Count of Cars in Each Market Segment')\n",
    "plt.xlabel('Market Segment')\n",
    "plt.ylabel('Number of Cars')\n",
    "plt.xticks(rotation=45)\n",
    "plt.show()"
   ]
  },
  {
   "cell_type": "code",
   "execution_count": 11,
   "id": "6bfb51fd",
   "metadata": {},
   "outputs": [
    {
     "data": {
      "image/png": "[encoded data removed]",
      "text/plain": [
       "<Figure size 800x800 with 1 Axes>"
      ]
     },
     "metadata": {},
     "output_type": "display_data"
    }
   ],
   "source": [
    "plt.figure(figsize=(8, 8))\n",
    "df['Segment'].value_counts().plot.pie(autopct='%1.1f%%', startangle=90, colors=sns.color_palette('pastel'))\n",
    "plt.title('Proportion of Each Market Segment')\n",
    "plt.ylabel('')\n",
    "plt.show()"
   ]
  },
  {
   "cell_type": "code",
   "execution_count": 12,
   "id": "0de0fc26",
   "metadata": {},
   "outputs": [
    {
     "data": {
      "image/png": "[encoded data removed]",
      "text/plain": [
       "<Figure size 1000x600 with 1 Axes>"
      ]
     },
     "metadata": {},
     "output_type": "display_data"
    }
   ],
   "source": [
    "plt.figure(figsize=(10, 6))\n",
    "sns.barplot(data=df, x='Segment', y='Base MSRP', estimator=np.mean, order=df['Segment'].value_counts().index)\n",
    "plt.title('Average Base MSRP per Market Segment')\n",
    "plt.xlabel('Market Segment')\n",
    "plt.ylabel('Average Base MSRP')\n",
    "plt.xticks(rotation=45)\n",
    "plt.show()"
   ]
  },
  {
   "cell_type": "code",
   "execution_count": 13,
   "id": "d58ba94a",
   "metadata": {},
   "outputs": [
    {
     "data": {
      "image/png": "[encoded data removed]",
      "text/plain": [
       "<Figure size 1000x600 with 1 Axes>"
      ]
     },
     "metadata": {},
     "output_type": "display_data"
    }
   ],
   "source": [
    "plt.figure(figsize=(10, 6))\n",
    "sns.boxplot(data=df, x='Segment', y='Electric Range', order=df['Segment'].value_counts().index)\n",
    "plt.title('Distribution of Electric Range by Market Segment')\n",
    "plt.xlabel('Market Segment')\n",
    "plt.ylabel('Electric Range')\n",
    "plt.xticks(rotation=45)\n",
    "plt.show()"
   ]
  },
  {
   "cell_type": "code",
   "execution_count": 43,
   "id": "620452b6",
   "metadata": {},
   "outputs": [
    {
     "name": "stdout",
     "output_type": "stream",
     "text": [
      "Action Plan:\n",
      "- Product Development: Enhance features that are valued by the target segment.\n",
      "- Pricing Strategy: Set a competitive price point around the average target price.\n",
      "- Distribution Channels: Expand presence in geographical areas where the target segment is concentrated.\n",
      "- Promotional Campaigns: Launch targeted digital marketing campaigns focusing on the segment’s preferences and behaviors.\n"
     ]
    }
   ],
   "source": [
    "action_plan = {\n",
    "    'Product Development': 'Enhance features that are valued by the target segment.',\n",
    "    'Pricing Strategy': 'Set a competitive price point around the average target price.',\n",
    "    'Distribution Channels': 'Expand presence in geographical areas where the target segment is concentrated.',\n",
    "    'Promotional Campaigns': 'Launch targeted digital marketing campaigns focusing on the segment’s preferences and behaviors.'\n",
    "}\n",
    "\n",
    "print(\"Action Plan:\")\n",
    "for key, value in action_plan.items():\n",
    "    print(f\"- {key}: {value}\")"
   ]
  },
  {
   "cell_type": "code",
   "execution_count": 44,
   "id": "ee3e4698",
   "metadata": {},
   "outputs": [
    {
     "name": "stdout",
     "output_type": "stream",
     "text": [
      "Monitoring and Evaluation Plan:\n",
      "- Track Sales regularly to evaluate the effectiveness of the segmentation strategy.\n",
      "- Track Customer Acquisition Cost regularly to evaluate the effectiveness of the segmentation strategy.\n",
      "- Track Customer Satisfaction regularly to evaluate the effectiveness of the segmentation strategy.\n",
      "- Track Market Share regularly to evaluate the effectiveness of the segmentation strategy.\n"
     ]
    }
   ],
   "source": [
    "monitoring_metrics = ['Sales', 'Customer Acquisition Cost', 'Customer Satisfaction', 'Market Share']\n",
    "\n",
    "print(\"Monitoring and Evaluation Plan:\")\n",
    "for metric in monitoring_metrics:\n",
    "    print(f\"- Track {metric} regularly to evaluate the effectiveness of the segmentation strategy.\")"
   ]
  }
 ],
 "metadata": {
  "kernelspec": {
   "display_name": "Python 3 (ipykernel)",
   "language": "python",
   "name": "python3"
  },
  "language_info": {
   "codemirror_mode": {
    "name": "ipython",
    "version": 3
   },
   "file_extension": ".py",
   "mimetype": "text/x-python",
   "name": "python",
   "nbconvert_exporter": "python",
   "pygments_lexer": "ipython3",
   "version": "3.11.5"
  }
 },
 "nbformat": 4,
 "nbformat_minor": 5
}
